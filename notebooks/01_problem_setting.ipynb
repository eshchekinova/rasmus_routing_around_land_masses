{
 "cells": [
  {
   "cell_type": "markdown",
   "id": "4c7ba86c-14bd-4d26-bb52-346ba855d09d",
   "metadata": {},
   "source": [
    "# Routing around obstacles"
   ]
  },
  {
   "cell_type": "code",
   "execution_count": 1,
   "id": "801e438d-e118-4743-aab1-f7bb58cc00a6",
   "metadata": {},
   "outputs": [],
   "source": [
    "from shapely.geometry import Polygon, LineString, Point\n",
    "from matplotlib import pyplot as plt\n",
    "import string"
   ]
  },
  {
   "cell_type": "code",
   "execution_count": 2,
   "id": "d8c2beae-903d-423c-af1c-ec21b5670c71",
   "metadata": {},
   "outputs": [],
   "source": [
    "# straight path\n",
    "line = LineString([(0, 2), (3, 2)])\n",
    "\n",
    "# large obstacle which is touched by the straight path\n",
    "poly_0 = Polygon([(1, 1), (1.5, 2.5), (2, 1), (2, 3), (1, 3), (1, 1)])\n",
    "\n",
    "# small obstacle which just further complicates stuff\n",
    "poly_1 = Point(1.5, 2.15).buffer(0.03)"
   ]
  },
  {
   "cell_type": "code",
   "execution_count": 3,
   "id": "795f8445-a761-4572-92fb-e6cb2a477687",
   "metadata": {},
   "outputs": [],
   "source": [
    "all_points = set()\n",
    "\n",
    "# original objects\n",
    "all_points = all_points.union(set(list(zip(*poly_0.exterior.xy))))\n",
    "all_points = all_points.union(set(list(zip(*line.xy))))\n",
    "\n",
    "# intersection points\n",
    "for n, g in enumerate(poly_0.difference(line.buffer(0.001)).geoms):\n",
    "    all_points = all_points.union(set(list(zip(*g.exterior.xy))))\n",
    "\n",
    "# round to get rid of degenerate points\n",
    "all_points = set(map(lambda p: tuple(map(lambda t: round(t, 2), p)), all_points))\n",
    "\n",
    "# sort from lower left corder to upper right corner\n",
    "all_points = sorted(all_points)"
   ]
  },
  {
   "cell_type": "code",
   "execution_count": 4,
   "id": "bc20d75d-a525-4e8f-af85-1b81775cde18",
   "metadata": {},
   "outputs": [
    {
     "data": {
      "image/png": "[encoded data removed]",
      "text/plain": [
       "<Figure size 432x288 with 1 Axes>"
      ]
     },
     "metadata": {
      "needs_background": "light"
     },
     "output_type": "display_data"
    }
   ],
   "source": [
    "plt.plot(*poly_0.exterior.xy, label=\"large obstacle\")\n",
    "plt.plot(*poly_1.exterior.xy, label=\"small obstacle\")\n",
    "plt.plot(*line.xy, label=\"direct course\")\n",
    "\n",
    "for lab, p in zip(string.ascii_uppercase, all_points):\n",
    "    plt.plot(*p, 'ko')\n",
    "    plt.annotate(\n",
    "        lab,\n",
    "        xy=p, xycoords='data',\n",
    "        xytext=(5, -5), textcoords='offset points',\n",
    "    )    \n",
    "\n",
    "plt.legend(loc=2);"
   ]
  },
  {
   "cell_type": "markdown",
   "id": "2b9de663-9786-4c52-97f9-c0dba1035568",
   "metadata": {},
   "source": [
    "## Automatically solving the graph"
   ]
  },
  {
   "cell_type": "code",
   "execution_count": 5,
   "id": "b602392c-e5d1-4033-a852-3075d6ee8838",
   "metadata": {},
   "outputs": [],
   "source": [
    "import networkx"
   ]
  },
  {
   "cell_type": "code",
   "execution_count": 6,
   "id": "ef584650-8ea4-4fe9-a494-37d5248554de",
   "metadata": {},
   "outputs": [],
   "source": [
    "g = networkx.MultiGraph()"
   ]
  },
  {
   "cell_type": "markdown",
   "id": "44cceb38-c875-4f40-afa9-c59219c6001e",
   "metadata": {},
   "source": [
    "## Construct graph by defining all edges\n",
    "\n",
    "We'll add keys indicating the points belonging to the edge and whether tha path is over land or through water."
   ]
  },
  {
   "cell_type": "code",
   "execution_count": 7,
   "id": "9f5b0dcb-67da-429e-a657-3a16374dfe52",
   "metadata": {},
   "outputs": [],
   "source": [
    "g.add_edge(\"A\", \"C\", key=(\"AC\", \"water\"))\n",
    "\n",
    "g.add_edge(\"C\", \"E\", key=(\"CBE\", \"water\"))\n",
    "g.add_edge(\"C\", \"E\", key=(\"CE\", \"land\"))\n",
    "\n",
    "g.add_edge(\"E\", \"G\", key=(\"EG\", \"water\"))\n",
    "g.add_edge(\"E\", \"G\", key=(\"EFG\", \"water\"))\n",
    "\n",
    "g.add_edge(\"G\", \"I\", key=(\"GHI\", \"water\"))\n",
    "g.add_edge(\"G\", \"I\", key=(\"GI\", \"land\"))\n",
    "\n",
    "g.add_edge(\"C\", \"I\", key=(\"CDJI\", \"water\"))\n",
    "\n",
    "g.add_edge(\"I\", \"K\", key=(\"IK\", \"water\"));"
   ]
  },
  {
   "cell_type": "markdown",
   "id": "9c067429-1eab-4ae4-9c10-77b8757bbfe8",
   "metadata": {},
   "source": [
    "Note that here all that is needed is that the start and end and the key is hashable. So with hashable types for shapely `Point` and `LineString`, we could directly use them here."
   ]
  },
  {
   "cell_type": "markdown",
   "id": "7990fdab-87de-42ad-a79b-3b439e942464",
   "metadata": {},
   "source": [
    "## Remove edges which touch land"
   ]
  },
  {
   "cell_type": "code",
   "execution_count": 8,
   "id": "ac417052-295f-4fa7-8f08-b1727989f228",
   "metadata": {},
   "outputs": [],
   "source": [
    "def is_land_edge(edge):\n",
    "    return edge[2][1] == \"land\""
   ]
  },
  {
   "cell_type": "code",
   "execution_count": 9,
   "id": "4c6a8146-dce7-49a2-a9ee-c728980c9e05",
   "metadata": {},
   "outputs": [],
   "source": [
    "land_edges = list(filter(is_land_edge, g.edges))\n",
    "g.remove_edges_from(land_edges)"
   ]
  },
  {
   "cell_type": "markdown",
   "id": "be08ec54-04c7-4547-b4f3-fe7df8a00aa9",
   "metadata": {},
   "source": [
    "## Show remaining graph"
   ]
  },
  {
   "cell_type": "code",
   "execution_count": 10,
   "id": "85854d57-065c-4d18-9b25-5bd907f9bb23",
   "metadata": {},
   "outputs": [
    {
     "data": {
      "image/png": "[encoded data removed]",
      "text/plain": [
       "<Figure size 432x288 with 1 Axes>"
      ]
     },
     "metadata": {},
     "output_type": "display_data"
    }
   ],
   "source": [
    "networkx.draw_networkx(g)"
   ]
  },
  {
   "cell_type": "code",
   "execution_count": 11,
   "id": "a2efe07f-aa6d-47a7-b3fc-2f269c8c9551",
   "metadata": {},
   "outputs": [
    {
     "data": {
      "text/plain": [
       "[('A', 'C', ('AC', 'water')),\n",
       " ('C', 'E', ('CBE', 'water')),\n",
       " ('C', 'I', ('CDJI', 'water')),\n",
       " ('E', 'G', ('EG', 'water')),\n",
       " ('E', 'G', ('EFG', 'water')),\n",
       " ('G', 'I', ('GHI', 'water')),\n",
       " ('I', 'K', ('IK', 'water'))]"
      ]
     },
     "metadata": {},
     "output_type": "display_data"
    }
   ],
   "source": [
    "display(list(g.edges))"
   ]
  },
  {
   "cell_type": "markdown",
   "id": "c47abd7b-c5a0-42a2-8a2d-35f7f75a345f",
   "metadata": {},
   "source": [
    "## Find all paths from start to end (A to K)"
   ]
  },
  {
   "cell_type": "code",
   "execution_count": 12,
   "id": "7249e6fa-403a-43f7-9562-16e1568c9634",
   "metadata": {},
   "outputs": [
    {
     "name": "stdout",
     "output_type": "stream",
     "text": [
      "['AC', 'CBE', 'EG', 'GHI', 'IK']\n",
      "['AC', 'CBE', 'EFG', 'GHI', 'IK']\n",
      "['AC', 'CDJI', 'IK']\n"
     ]
    }
   ],
   "source": [
    "for p in networkx.all_simple_edge_paths(g, \"A\", \"K\"):\n",
    "    print(list(map(lambda _p: _p[2][0], p)))"
   ]
  }
 ],
 "metadata": {
  "kernelspec": {
   "display_name": "Python 3 (ipykernel)",
   "language": "python",
   "name": "python3"
  },
  "language_info": {
   "codemirror_mode": {
    "name": "ipython",
    "version": 3
   },
   "file_extension": ".py",
   "mimetype": "text/x-python",
   "name": "python",
   "nbconvert_exporter": "python",
   "pygments_lexer": "ipython3",
   "version": "3.9.7"
  }
 },
 "nbformat": 4,
 "nbformat_minor": 5
}
