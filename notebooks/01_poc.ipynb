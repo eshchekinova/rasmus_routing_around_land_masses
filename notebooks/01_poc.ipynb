{
 "cells": [
  {
   "cell_type": "markdown",
   "id": "4c7ba86c-14bd-4d26-bb52-346ba855d09d",
   "metadata": {},
   "source": [
    "# Routing around obstacles"
   ]
  },
  {
   "cell_type": "markdown",
   "id": "f2af6b7e-f577-486f-acc0-e2d02c6073dc",
   "metadata": {},
   "source": [
    "## Example problem\n",
    "\n",
    "We'll have one route (a straight line) and two obstacles (a polygon and a circle) the first of which is crossed by the line multiple times."
   ]
  },
  {
   "cell_type": "code",
   "execution_count": 1,
   "id": "801e438d-e118-4743-aab1-f7bb58cc00a6",
   "metadata": {},
   "outputs": [],
   "source": [
    "from shapely.geometry import Polygon, LineString, Point, MultiLineString\n",
    "from matplotlib import pyplot as plt\n",
    "import string"
   ]
  },
  {
   "cell_type": "code",
   "execution_count": 2,
   "id": "d8c2beae-903d-423c-af1c-ec21b5670c71",
   "metadata": {},
   "outputs": [],
   "source": [
    "# straight path\n",
    "line = LineString([(0, 2), (3, 2)])\n",
    "\n",
    "# large obstacle which is touched by the straight path\n",
    "poly_0 = Polygon([(1, 1), (1.5, 2.5), (2, 1), (2, 3), (1, 3), (1, 1)])\n",
    "\n",
    "# small obstacle which just further complicates stuff\n",
    "poly_1 = Point(1.5, 2.15).buffer(0.03)"
   ]
  },
  {
   "cell_type": "code",
   "execution_count": 3,
   "id": "795f8445-a761-4572-92fb-e6cb2a477687",
   "metadata": {},
   "outputs": [],
   "source": [
    "all_points = set()\n",
    "\n",
    "# original objects\n",
    "all_points = all_points.union(set(list(zip(*poly_0.exterior.xy))))\n",
    "all_points = all_points.union(set(list(zip(*line.xy))))\n",
    "\n",
    "# intersection points\n",
    "for n, g in enumerate(poly_0.difference(line.buffer(0.001)).geoms):\n",
    "    all_points = all_points.union(set(list(zip(*g.exterior.xy))))\n",
    "\n",
    "# round to get rid of degenerate points\n",
    "all_points = set(map(lambda p: tuple(map(lambda t: round(t, 2), p)), all_points))\n",
    "\n",
    "# sort from lower left corder to upper right corner\n",
    "all_points = sorted(all_points)"
   ]
  },
  {
   "cell_type": "code",
   "execution_count": 4,
   "id": "bc20d75d-a525-4e8f-af85-1b81775cde18",
   "metadata": {},
   "outputs": [
    {
     "data": {
      "image/png": "[encoded data removed]",
      "text/plain": [
       "<Figure size 432x288 with 1 Axes>"
      ]
     },
     "metadata": {
      "needs_background": "light"
     },
     "output_type": "display_data"
    }
   ],
   "source": [
    "plt.plot(*poly_0.exterior.xy, label=\"large obstacle\")\n",
    "plt.plot(*poly_1.exterior.xy, label=\"small obstacle\")\n",
    "plt.plot(*line.xy, label=\"direct course\")\n",
    "\n",
    "for lab, p in zip(string.ascii_uppercase, all_points):\n",
    "    plt.plot(*p, 'ko')\n",
    "    plt.annotate(\n",
    "        lab,\n",
    "        xy=p, xycoords='data',\n",
    "        xytext=(5, -5), textcoords='offset points',\n",
    "    )    \n",
    "\n",
    "plt.legend(loc=2);"
   ]
  },
  {
   "cell_type": "markdown",
   "id": "2b9de663-9786-4c52-97f9-c0dba1035568",
   "metadata": {},
   "source": [
    "## Automatically solving the graph\n",
    "\n",
    "Based on the above image, we'll create a graph which can distinguish different edges between the same pair of nodes (e.g. `CE` and `CBE` both go from `C` to `E`).\n",
    "But we won't use shapely objects for building the network yet."
   ]
  },
  {
   "cell_type": "code",
   "execution_count": 5,
   "id": "b602392c-e5d1-4033-a852-3075d6ee8838",
   "metadata": {},
   "outputs": [],
   "source": [
    "import networkx"
   ]
  },
  {
   "cell_type": "code",
   "execution_count": 6,
   "id": "ef584650-8ea4-4fe9-a494-37d5248554de",
   "metadata": {},
   "outputs": [],
   "source": [
    "g = networkx.MultiGraph()"
   ]
  },
  {
   "cell_type": "markdown",
   "id": "44cceb38-c875-4f40-afa9-c59219c6001e",
   "metadata": {},
   "source": [
    "### Construct graph by defining all edges\n",
    "\n",
    "We'll add keys indicating the points belonging to the edge and whether tha path is over land or through water."
   ]
  },
  {
   "cell_type": "code",
   "execution_count": 7,
   "id": "9f5b0dcb-67da-429e-a657-3a16374dfe52",
   "metadata": {},
   "outputs": [],
   "source": [
    "g.add_edge(\"A\", \"C\", key=(\"AC\", \"water\"))\n",
    "\n",
    "g.add_edge(\"C\", \"E\", key=(\"CBE\", \"water\"))\n",
    "g.add_edge(\"C\", \"E\", key=(\"CE\", \"land\"))\n",
    "\n",
    "g.add_edge(\"E\", \"G\", key=(\"EG\", \"water\"))\n",
    "g.add_edge(\"E\", \"G\", key=(\"EFG\", \"water\"))\n",
    "\n",
    "g.add_edge(\"G\", \"I\", key=(\"GHI\", \"water\"))\n",
    "g.add_edge(\"G\", \"I\", key=(\"GI\", \"land\"))\n",
    "\n",
    "g.add_edge(\"C\", \"I\", key=(\"CDJI\", \"water\"))\n",
    "\n",
    "g.add_edge(\"I\", \"K\", key=(\"IK\", \"water\"));"
   ]
  },
  {
   "cell_type": "markdown",
   "id": "9c067429-1eab-4ae4-9c10-77b8757bbfe8",
   "metadata": {},
   "source": [
    "Note that here all that is needed is that the start and end and the key is hashable. So with hashable types for shapely `Point` and `LineString`, we could directly use them here."
   ]
  },
  {
   "cell_type": "markdown",
   "id": "7990fdab-87de-42ad-a79b-3b439e942464",
   "metadata": {},
   "source": [
    "### Remove edges which touch land"
   ]
  },
  {
   "cell_type": "code",
   "execution_count": 8,
   "id": "ac417052-295f-4fa7-8f08-b1727989f228",
   "metadata": {},
   "outputs": [],
   "source": [
    "def is_land_edge(edge):\n",
    "    return edge[2][1] == \"land\""
   ]
  },
  {
   "cell_type": "code",
   "execution_count": 9,
   "id": "4c6a8146-dce7-49a2-a9ee-c728980c9e05",
   "metadata": {},
   "outputs": [],
   "source": [
    "land_edges = list(filter(is_land_edge, g.edges))\n",
    "g.remove_edges_from(land_edges)"
   ]
  },
  {
   "cell_type": "markdown",
   "id": "be08ec54-04c7-4547-b4f3-fe7df8a00aa9",
   "metadata": {},
   "source": [
    "### Show remaining graph"
   ]
  },
  {
   "cell_type": "code",
   "execution_count": 10,
   "id": "85854d57-065c-4d18-9b25-5bd907f9bb23",
   "metadata": {},
   "outputs": [
    {
     "data": {
      "image/png": "[encoded data removed]",
      "text/plain": [
       "<Figure size 432x288 with 1 Axes>"
      ]
     },
     "metadata": {},
     "output_type": "display_data"
    }
   ],
   "source": [
    "networkx.draw_networkx(g)"
   ]
  },
  {
   "cell_type": "code",
   "execution_count": 11,
   "id": "a2efe07f-aa6d-47a7-b3fc-2f269c8c9551",
   "metadata": {},
   "outputs": [
    {
     "data": {
      "text/plain": [
       "[('A', 'C', ('AC', 'water')),\n",
       " ('C', 'E', ('CBE', 'water')),\n",
       " ('C', 'I', ('CDJI', 'water')),\n",
       " ('E', 'G', ('EG', 'water')),\n",
       " ('E', 'G', ('EFG', 'water')),\n",
       " ('G', 'I', ('GHI', 'water')),\n",
       " ('I', 'K', ('IK', 'water'))]"
      ]
     },
     "metadata": {},
     "output_type": "display_data"
    }
   ],
   "source": [
    "display(list(g.edges))"
   ]
  },
  {
   "cell_type": "markdown",
   "id": "c47abd7b-c5a0-42a2-8a2d-35f7f75a345f",
   "metadata": {},
   "source": [
    "### Find all paths from start to end (A to K)"
   ]
  },
  {
   "cell_type": "code",
   "execution_count": 12,
   "id": "7249e6fa-403a-43f7-9562-16e1568c9634",
   "metadata": {},
   "outputs": [
    {
     "name": "stdout",
     "output_type": "stream",
     "text": [
      "['AC', 'CBE', 'EG', 'GHI', 'IK']\n",
      "['AC', 'CBE', 'EFG', 'GHI', 'IK']\n",
      "['AC', 'CDJI', 'IK']\n"
     ]
    }
   ],
   "source": [
    "for p in networkx.all_simple_edge_paths(g, \"A\", \"K\"):\n",
    "    print(list(map(lambda _p: _p[2][0], p)))"
   ]
  },
  {
   "cell_type": "markdown",
   "id": "5afef62d-47ea-4c0c-b08e-1a2e026d395b",
   "metadata": {},
   "source": [
    "## Build same graph with shapely objects"
   ]
  },
  {
   "cell_type": "markdown",
   "id": "4c6b212c-e90e-4e12-a725-94ab09559c0f",
   "metadata": {},
   "source": [
    "### Hashable geometries\n",
    "\n",
    "As shapely's geometries are not hashable, we'll create hashable subclasses first."
   ]
  },
  {
   "cell_type": "code",
   "execution_count": 13,
   "id": "808be3eb-7e0a-46d3-aeb6-b342eb2aede1",
   "metadata": {},
   "outputs": [],
   "source": [
    "class PointHash(Point):\n",
    "    def __hash__(self):\n",
    "        return hash(self.coords[0])\n",
    "    \n",
    "    \n",
    "class LineStringHash(LineString):\n",
    "    def __hash__(self):\n",
    "        return hash(tuple(self.coords))"
   ]
  },
  {
   "cell_type": "markdown",
   "id": "77fe4dd8-2333-44a2-b007-4728b6a74bd5",
   "metadata": {},
   "source": [
    "### Finding all segments"
   ]
  },
  {
   "cell_type": "code",
   "execution_count": 14,
   "id": "f536f986-85c7-4db8-b6a6-6b33bcf857ad",
   "metadata": {},
   "outputs": [],
   "source": [
    "from shapely.ops import split"
   ]
  },
  {
   "cell_type": "code",
   "execution_count": 15,
   "id": "c8665ab4-781e-49c1-8c9f-82b3956db786",
   "metadata": {},
   "outputs": [],
   "source": [
    "def get_all_poly_segments(poly=None, line=None):\n",
    "    # split polygon into sub-polygons\n",
    "    splits_0 = list(split(poly, line).geoms)\n",
    "    \n",
    "    # if only one resulting polygon, we're done here, return empty\n",
    "    if len(splits_0) == 1:\n",
    "        return []\n",
    "    \n",
    "    # turn polygons into line strings without the part covered by line\n",
    "    splits_1 = [sp.exterior.difference(line) for sp in splits_0]\n",
    "    \n",
    "    # split possible line collections\n",
    "    splits_2 = []\n",
    "    for sp in splits_1:\n",
    "        if hasattr(sp, \"geoms\"):\n",
    "            for g in sp.geoms:\n",
    "                splits_2.append(g)\n",
    "        else:\n",
    "            splits_2.append(sp)\n",
    "        \n",
    "    return splits_2"
   ]
  },
  {
   "cell_type": "code",
   "execution_count": 16,
   "id": "65916fe7-02ac-495c-95e3-1979c32d9406",
   "metadata": {},
   "outputs": [],
   "source": [
    "def get_all_line_segments(line=None, poly=None):\n",
    "    # split polygon into sub-polygons\n",
    "    splits_0 = list(split(line, poly).geoms)\n",
    "    \n",
    "    # if only one resulting polygon, we're done here, return empty\n",
    "    if len(splits_0) == 1:\n",
    "        return []\n",
    "    \n",
    "    # split possible line collections\n",
    "    splits_1 = []\n",
    "    for sp in splits_0:\n",
    "        if hasattr(sp, \"geoms\"):\n",
    "            for g in sp.geoms:\n",
    "                splits_1.append(g)\n",
    "        else:\n",
    "            splits_1.append(sp)\n",
    "        \n",
    "    return list(zip(splits_1, map(lambda l: l.intersects(poly.buffer(-1.0e-7)), splits_1)))"
   ]
  },
  {
   "cell_type": "code",
   "execution_count": 17,
   "id": "88eb7bd7-d533-4f45-ab49-ecb90d6e8748",
   "metadata": {},
   "outputs": [
    {
     "data": {
      "text/plain": [
       "[<shapely.geometry.linestring.LineString at 0x7f6cdaea5af0>,\n",
       " <shapely.geometry.linestring.LineString at 0x7f6cdaea5a30>,\n",
       " <shapely.geometry.linestring.LineString at 0x7f6cdaea56a0>,\n",
       " <shapely.geometry.linestring.LineString at 0x7f6cdaea5a60>]"
      ]
     },
     "execution_count": 17,
     "metadata": {},
     "output_type": "execute_result"
    }
   ],
   "source": [
    "all_poly_segments = (\n",
    "    get_all_poly_segments(poly_0, line)\n",
    "    + get_all_poly_segments(poly_1, line)\n",
    ")\n",
    "all_poly_segments"
   ]
  },
  {
   "cell_type": "code",
   "execution_count": 18,
   "id": "0541c222-f2cd-4787-bfa0-70d76e1ef630",
   "metadata": {},
   "outputs": [
    {
     "data": {
      "text/plain": [
       "[(<shapely.geometry.linestring.LineString at 0x7f6cdaea5610>, False),\n",
       " (<shapely.geometry.linestring.LineString at 0x7f6cdaea55e0>, True),\n",
       " (<shapely.geometry.linestring.LineString at 0x7f6cdaea5310>, False),\n",
       " (<shapely.geometry.linestring.LineString at 0x7f6cdaea52e0>, True),\n",
       " (<shapely.geometry.linestring.LineString at 0x7f6cdaea5670>, False)]"
      ]
     },
     "execution_count": 18,
     "metadata": {},
     "output_type": "execute_result"
    }
   ],
   "source": [
    "all_line_segments = (\n",
    "    get_all_line_segments(line, poly_0)\n",
    "    + get_all_line_segments(line, poly_1)\n",
    ")\n",
    "all_line_segments"
   ]
  },
  {
   "cell_type": "markdown",
   "id": "ab9bbee2-2df5-4ad8-baa0-88f9f623f86e",
   "metadata": {},
   "source": [
    "## Put into graph"
   ]
  },
  {
   "cell_type": "code",
   "execution_count": 19,
   "id": "12d9c774-bb1f-4e16-a5f1-5cb4fa2f55bc",
   "metadata": {},
   "outputs": [],
   "source": [
    "def get_start_end(line):\n",
    "    return line.coords[0], line.coords[-1]"
   ]
  },
  {
   "cell_type": "code",
   "execution_count": 20,
   "id": "380b6474-a7b2-4ea0-9e6e-4e0a4bf95de3",
   "metadata": {},
   "outputs": [],
   "source": [
    "gg = networkx.MultiGraph()"
   ]
  },
  {
   "cell_type": "code",
   "execution_count": 21,
   "id": "8077968e-678d-4015-a1cd-28d0c87d49bb",
   "metadata": {},
   "outputs": [],
   "source": [
    "for seg in all_poly_segments:\n",
    "    gg.add_edge(\n",
    "        PointHash(get_start_end(seg)[0]),\n",
    "        PointHash(get_start_end(seg)[1]),\n",
    "        key=LineStringHash(seg),\n",
    "    )\n",
    "    \n",
    "for seg in all_line_segments:\n",
    "    # skip if over land\n",
    "    if seg[1]:\n",
    "        continue\n",
    "    gg.add_edge(\n",
    "        PointHash(get_start_end(seg[0])[0]),\n",
    "        PointHash(get_start_end(seg[0])[1]),\n",
    "        key=LineStringHash(seg[0]),\n",
    "    )"
   ]
  },
  {
   "cell_type": "code",
   "execution_count": 22,
   "id": "a080c1b3-b45e-4e5a-a1c9-6d8ebd21642a",
   "metadata": {},
   "outputs": [
    {
     "data": {
      "text/plain": [
       "7"
      ]
     },
     "execution_count": 22,
     "metadata": {},
     "output_type": "execute_result"
    }
   ],
   "source": [
    "len(gg.edges)"
   ]
  },
  {
   "cell_type": "code",
   "execution_count": 28,
   "id": "a48aa6cf-2124-4422-97d7-d6db6d84a4cf",
   "metadata": {},
   "outputs": [
    {
     "data": {
      "text/plain": [
       "6"
      ]
     },
     "execution_count": 28,
     "metadata": {},
     "output_type": "execute_result"
    }
   ],
   "source": [
    "len(gg.nodes)"
   ]
  },
  {
   "cell_type": "code",
   "execution_count": 29,
   "id": "552097ae-e54e-403d-8683-069112ea59f1",
   "metadata": {},
   "outputs": [
    {
     "data": {
      "image/png": "[encoded data removed]",
      "text/plain": [
       "<Figure size 432x288 with 1 Axes>"
      ]
     },
     "metadata": {},
     "output_type": "display_data"
    }
   ],
   "source": [
    "networkx.draw_networkx(gg)"
   ]
  },
  {
   "cell_type": "code",
   "execution_count": 25,
   "id": "624bc3b2-bd0c-4a52-bb98-e7553c282795",
   "metadata": {},
   "outputs": [
    {
     "data": {
      "image/png": "[encoded data removed]",
      "text/plain": [
       "<Figure size 432x288 with 1 Axes>"
      ]
     },
     "metadata": {
      "needs_background": "light"
     },
     "output_type": "display_data"
    }
   ],
   "source": [
    "for n in gg.nodes:\n",
    "    plt.plot(*n.xy, 'o')\n",
    "    \n",
    "for e in gg.edges:\n",
    "    plt.plot(*e[2].xy, 'o-')"
   ]
  },
  {
   "cell_type": "markdown",
   "id": "8e0abc84-ca54-45f6-81c0-48cad8c830c7",
   "metadata": {},
   "source": [
    "### Find all paths"
   ]
  },
  {
   "cell_type": "code",
   "execution_count": 26,
   "id": "7913f658-4ed8-45e2-83ad-210987417221",
   "metadata": {},
   "outputs": [],
   "source": [
    "from shapely.ops import linemerge"
   ]
  },
  {
   "cell_type": "code",
   "execution_count": 31,
   "id": "78693c58-0f2a-4be8-9176-3893cc16c5d5",
   "metadata": {},
   "outputs": [
    {
     "data": {
      "image/png": "[encoded data removed]",
      "text/plain": [
       "<Figure size 432x288 with 1 Axes>"
      ]
     },
     "metadata": {
      "needs_background": "light"
     },
     "output_type": "display_data"
    }
   ],
   "source": [
    "for _p in networkx.all_simple_edge_paths(gg, PointHash(0, 2), PointHash(3, 2)):\n",
    "    plt.plot(*linemerge([_l[2] for _l in _p]).xy)"
   ]
  }
 ],
 "metadata": {
  "kernelspec": {
   "display_name": "Python 3 (ipykernel)",
   "language": "python",
   "name": "python3"
  },
  "language_info": {
   "codemirror_mode": {
    "name": "ipython",
    "version": 3
   },
   "file_extension": ".py",
   "mimetype": "text/x-python",
   "name": "python",
   "nbconvert_exporter": "python",
   "pygments_lexer": "ipython3",
   "version": "3.9.7"
  }
 },
 "nbformat": 4,
 "nbformat_minor": 5
}
